{
 "cells": [
  {
   "cell_type": "code",
   "execution_count": 157,
   "metadata": {},
   "outputs": [],
   "source": [
    "import pandas as pd\n",
    "import numpy as np\n",
    "import os\n",
    "from sklearn.preprocessing import OneHotEncoder"
   ]
  },
  {
   "cell_type": "code",
   "execution_count": 158,
   "metadata": {},
   "outputs": [],
   "source": [
    "clin_fp = open('../data/nationwidechildrens.org_clinical_patient_brca.txt')\n",
    "clin_data = pd.read_csv(clin_fp,skiprows=[1,2], header=[0], delimiter=\"\\t\")\n",
    "keep_cols = ['bcr_patient_uuid','tumor_status','surgical_procedure_first','margin_status',\n",
    "             'lymph_nodes_examined_he_count','ajcc_tumor_pathologic_pt','ajcc_nodes_pathologic_pn',\n",
    "             'ajcc_metastasis_pathologic_pm','ajcc_pathologic_tumor_stage','er_status_by_ihc',\n",
    "             'pr_status_by_ihc','her2_status_by_ihc','histological_type', 'vital_status']\n",
    "clin_data = clin_data[keep_cols]"
   ]
  },
  {
   "cell_type": "code",
   "execution_count": 159,
   "metadata": {
    "scrolled": false
   },
   "outputs": [
    {
     "name": "stdout",
     "output_type": "stream",
     "text": [
      "['Modified Radical Mastectomy' 'Lumpectomy' 'Simple Mastectomy' 'NA_proc'\n",
      " 'Other']\n",
      "[array(['Lumpectomy', 'Modified Radical Mastectomy', 'NA_proc', 'Other',\n",
      "       'Simple Mastectomy'], dtype=object)]\n",
      "['bcr_patient_uuid', 'tumor_status', 'surgical_procedure_first', 'margin_status', 'lymph_nodes_examined_he_count', 'ajcc_tumor_pathologic_pt', 'ajcc_nodes_pathologic_pn', 'ajcc_metastasis_pathologic_pm', 'ajcc_pathologic_tumor_stage', 'er_status_by_ihc', 'pr_status_by_ihc', 'her2_status_by_ihc', 'histological_type', 'vital_status', 'Lumpectomy', 'Modified Radical Mastectomy', 'NA_proc', 'Other', 'Simple Mastectomy']\n",
      "[3 2 1 0]\n"
     ]
    }
   ],
   "source": [
    "clin_data['surgical_procedure_first'] = clin_data['surgical_procedure_first'].replace(['[Discrepancy]','[Unknown]', '[Not Available]'], 'NA_proc')\n",
    "print(clin_data['surgical_procedure_first'].unique())\n",
    "first_surg_hot = OneHotEncoder(dtype=np.int, categories='auto')\n",
    "first_surg_out = first_surg_hot.fit_transform(clin_data[['surgical_procedure_first']]).toarray()\n",
    "print(first_surg_hot.categories_)\n",
    "clin_data = clin_data.merge(pd.DataFrame(first_surg_out, columns=np.array(first_surg_hot.categories_).ravel()),left_index=True,right_index=True)\n",
    "print(list(clin_data))\n",
    "\n",
    "clin_data['margin_status'] = clin_data['margin_status'].replace('[Unknown]', '[Not Available]')\n",
    "margin_map = {'[Not Available]':0,'Positive': 1,'Close':2,'Negative':3}\n",
    "clin_data['margin_status'] = clin_data['margin_status'].map(lambda x: margin_map[x])\n",
    "print(clin_data['margin_status'].unique())"
   ]
  },
  {
   "cell_type": "code",
   "execution_count": 160,
   "metadata": {},
   "outputs": [
    {
     "name": "stdout",
     "output_type": "stream",
     "text": [
      "['WITH TUMOR' 'TUMOR FREE' '[Unknown]' '[Not Available]']\n"
     ]
    }
   ],
   "source": [
    "print(clin_data['tumor_status'].unique())\n",
    "clin_data['tumor_status'] = clin_data['tumor_status'].replace('[Unknown]', '[Not Available]')\n",
    "tumor_map = {'[Not Available]':0,'WITH TUMOR': 1,'TUMOR FREE':2}\n",
    "clin_data['tumor_status'] = clin_data['tumor_status'].map(lambda x: tumor_map[x])"
   ]
  },
  {
   "cell_type": "code",
   "execution_count": 161,
   "metadata": {},
   "outputs": [
    {
     "name": "stdout",
     "output_type": "stream",
     "text": [
      "['4' '1' '0' '[Not Available]' '3' '18' '9' '12' '2' '5' '26' '8' '10'\n",
      " '14' '6' '22' '27' '13' '21' '19' '7' '15' '11' '29' '25' '16' '24' '35'\n",
      " '17' '23' '28' '20']\n"
     ]
    }
   ],
   "source": [
    "print(clin_data['lymph_nodes_examined_he_count'].unique())\n",
    "clin_data['lymph_nodes_examined_he_count'] = clin_data['lymph_nodes_examined_he_count'].replace('[Not Available]', '-1')\n",
    "clin_data['lymph_nodes_examined_he_count'] = clin_data['lymph_nodes_examined_he_count'].astype(int)"
   ]
  },
  {
   "cell_type": "code",
   "execution_count": 162,
   "metadata": {},
   "outputs": [
    {
     "name": "stdout",
     "output_type": "stream",
     "text": [
      "['TX' 'T2' 'T1c' 'T3' 'T1' 'T4b' 'T1b' 'T4d' 'T4' 'T2b' 'T1a' 'T3a' 'T2a']\n"
     ]
    }
   ],
   "source": [
    "print(clin_data['ajcc_tumor_pathologic_pt'].unique())\n",
    "tumor_pt_map = {'TX':0,'T1': 1,'T1a':2, 'T1b':3, 'T1c':4, 'T2':5, 'T2a':6, 'T2b':7, 'T3':8, 'T3a':9, 'T4':10, 'T4b':11, 'T4d':12 }\n",
    "clin_data['ajcc_tumor_pathologic_pt'] = clin_data['ajcc_tumor_pathologic_pt'].map(lambda x: tumor_pt_map[x])"
   ]
  },
  {
   "cell_type": "code",
   "execution_count": 163,
   "metadata": {},
   "outputs": [
    {
     "name": "stdout",
     "output_type": "stream",
     "text": [
      "['NX' 'N1a' 'N0 (i+)' 'N2a' 'N0' 'N0 (i-)' 'N1' 'N3c' 'N1mi' 'N3a' 'N2'\n",
      " 'N3' 'N1b' 'N1c' 'N0 (mol+)' 'N3b']\n"
     ]
    }
   ],
   "source": [
    "print(clin_data['ajcc_nodes_pathologic_pn'].unique())\n",
    "nodes_pn_map = {'NX':0,'N0 (mol+)': 1,'N0 (i-)':2, 'N0 (i+)':3, 'N0':4, 'N1mi':5, 'N1':6, 'N1a':7, 'N1b':8, 'N1c':9, 'N2':10, 'N2a':11, 'N3':12, 'N3a': 13, 'N3b': 14, 'N3c':15}\n",
    "clin_data['ajcc_nodes_pathologic_pn'] = clin_data['ajcc_nodes_pathologic_pn'].map(lambda x: nodes_pn_map[x])"
   ]
  },
  {
   "cell_type": "code",
   "execution_count": 164,
   "metadata": {},
   "outputs": [
    {
     "name": "stdout",
     "output_type": "stream",
     "text": [
      "['MX' 'M0' 'M1' 'cM0 (i+)']\n"
     ]
    }
   ],
   "source": [
    "print(clin_data['ajcc_metastasis_pathologic_pm'].unique())\n",
    "meta_pm_map = {'MX':0,'M0': 1,'cM0 (i+)':2, 'M1': 3}\n",
    "clin_data['ajcc_metastasis_pathologic_pm'] = clin_data['ajcc_metastasis_pathologic_pm'].map(lambda x: meta_pm_map[x])"
   ]
  },
  {
   "cell_type": "code",
   "execution_count": 165,
   "metadata": {},
   "outputs": [
    {
     "name": "stdout",
     "output_type": "stream",
     "text": [
      "['Stage X' 'Stage IIB' 'Stage IA' 'Stage IIIA' 'Stage IIA' 'Stage IV'\n",
      " 'Stage I' 'Stage IIIC' 'Stage IB' 'Stage IIIB' '[Discrepancy]'\n",
      " 'Stage III' 'Stage II' '[Not Available]']\n"
     ]
    }
   ],
   "source": [
    "print(clin_data['ajcc_pathologic_tumor_stage'].unique())\n",
    "clin_data['ajcc_pathologic_tumor_stage'] = clin_data['ajcc_pathologic_tumor_stage'].replace(['[Not Available]','[Discrepancy]'], 'Stage X')\n",
    "tumor_stage_map = {'Stage X':0,'Stage I': 1,'Stage IA':2, 'Stage IB': 3, 'Stage II': 4, 'Stage IIA': 5, 'Stage IIB':6, 'Stage IIB':6, 'Stage III':6, 'Stage IIIA':6, 'Stage IIIB':6, 'Stage IIIC':6,'Stage IV':6,}\n",
    "clin_data['ajcc_pathologic_tumor_stage'] = clin_data['ajcc_pathologic_tumor_stage'].map(lambda x: tumor_stage_map[x])"
   ]
  },
  {
   "cell_type": "code",
   "execution_count": 166,
   "metadata": {},
   "outputs": [
    {
     "name": "stdout",
     "output_type": "stream",
     "text": [
      "['Positive' 'Negative' '[Not Evaluated]' 'Indeterminate']\n"
     ]
    }
   ],
   "source": [
    "print(clin_data['er_status_by_ihc'].unique())\n",
    "clin_data['er_status_by_ihc'] = clin_data['er_status_by_ihc'].replace('[Not Evaluated]', 'Indeterminate')\n",
    "er_status_map = {'Indeterminate':0,'Negative': 1,'Positive':2,}\n",
    "clin_data['er_status_by_ihc'] = clin_data['er_status_by_ihc'].map(lambda x: er_status_map[x])"
   ]
  },
  {
   "cell_type": "code",
   "execution_count": 167,
   "metadata": {},
   "outputs": [
    {
     "name": "stdout",
     "output_type": "stream",
     "text": [
      "['Positive' 'Negative' '[Not Evaluated]' 'Indeterminate']\n"
     ]
    }
   ],
   "source": [
    "print(clin_data['pr_status_by_ihc'].unique())\n",
    "clin_data['pr_status_by_ihc'] = clin_data['pr_status_by_ihc'].replace('[Not Evaluated]', 'Indeterminate')\n",
    "pr_status_map = {'Indeterminate':0,'Negative': 1,'Positive':2,}\n",
    "clin_data['pr_status_by_ihc'] = clin_data['pr_status_by_ihc'].map(lambda x: pr_status_map[x])"
   ]
  },
  {
   "cell_type": "code",
   "execution_count": 168,
   "metadata": {},
   "outputs": [
    {
     "name": "stdout",
     "output_type": "stream",
     "text": [
      "['Negative' 'Positive' 'Indeterminate' 'Equivocal' '[Not Evaluated]'\n",
      " '[Not Available]']\n"
     ]
    }
   ],
   "source": [
    "print(clin_data['her2_status_by_ihc'].unique())\n",
    "\n",
    "clin_data['her2_status_by_ihc'] = clin_data['her2_status_by_ihc'].replace(['[Not Available]', '[Not Evaluated]', 'Equivocal'], 'Indeterminate')\n",
    "her2_status_map = {'Indeterminate':0,'Negative': 1,'Positive':2,}\n",
    "clin_data['her2_status_by_ihc'] = clin_data['her2_status_by_ihc'].map(lambda x: her2_status_map[x])"
   ]
  },
  {
   "cell_type": "code",
   "execution_count": 169,
   "metadata": {},
   "outputs": [
    {
     "name": "stdout",
     "output_type": "stream",
     "text": [
      "['Infiltrating Lobular Carcinoma' 'Infiltrating Ductal Carcinoma'\n",
      " 'Other, specify' 'Mixed Histology (please specify)' 'Mucinous Carcinoma'\n",
      " 'Metaplastic Carcinoma' 'Infiltrating Carcinoma NOS'\n",
      " 'Medullary Carcinoma' '[Not Available]']\n",
      "['Infiltrating Lobular Carcinoma' 'Infiltrating Ductal Carcinoma'\n",
      " 'NA_hist' 'Mucinous Carcinoma' 'Metaplastic Carcinoma'\n",
      " 'Infiltrating Carcinoma NOS' 'Medullary Carcinoma']\n",
      "[array(['Infiltrating Carcinoma NOS', 'Infiltrating Ductal Carcinoma',\n",
      "       'Infiltrating Lobular Carcinoma', 'Medullary Carcinoma',\n",
      "       'Metaplastic Carcinoma', 'Mucinous Carcinoma', 'NA_hist'],\n",
      "      dtype=object)]\n",
      "['bcr_patient_uuid', 'tumor_status', 'surgical_procedure_first', 'margin_status', 'lymph_nodes_examined_he_count', 'ajcc_tumor_pathologic_pt', 'ajcc_nodes_pathologic_pn', 'ajcc_metastasis_pathologic_pm', 'ajcc_pathologic_tumor_stage', 'er_status_by_ihc', 'pr_status_by_ihc', 'her2_status_by_ihc', 'histological_type', 'vital_status', 'Lumpectomy', 'Modified Radical Mastectomy', 'NA_proc', 'Other', 'Simple Mastectomy', 'Infiltrating Carcinoma NOS', 'Infiltrating Ductal Carcinoma', 'Infiltrating Lobular Carcinoma', 'Medullary Carcinoma', 'Metaplastic Carcinoma', 'Mucinous Carcinoma', 'NA_hist']\n"
     ]
    }
   ],
   "source": [
    "print(clin_data['histological_type'].unique())\n",
    "clin_data['histological_type'] = clin_data['histological_type'].replace(['Other, specify','Mixed Histology (please specify)', '[Not Available]'], 'NA_hist')\n",
    "print(clin_data['histological_type'].unique())\n",
    "histo_type_hot = OneHotEncoder(dtype=np.int, categories='auto')\n",
    "histo_type_out = histo_type_hot.fit_transform(clin_data[['histological_type']]).toarray()\n",
    "print(histo_type_hot.categories_)\n",
    "clin_data = clin_data.merge(pd.DataFrame(histo_type_out, columns=np.array(histo_type_hot.categories_).ravel()),left_index=True,right_index=True)\n",
    "print(list(clin_data))"
   ]
  },
  {
   "cell_type": "code",
   "execution_count": 170,
   "metadata": {},
   "outputs": [],
   "source": [
    "clin_data.to_csv(\"../data/clinical_data_processed.csv\", sep=',')"
   ]
  }
 ],
 "metadata": {
  "kernelspec": {
   "display_name": "Python 3",
   "language": "python",
   "name": "python3"
  },
  "language_info": {
   "codemirror_mode": {
    "name": "ipython",
    "version": 3
   },
   "file_extension": ".py",
   "mimetype": "text/x-python",
   "name": "python",
   "nbconvert_exporter": "python",
   "pygments_lexer": "ipython3",
   "version": "3.7.2"
  }
 },
 "nbformat": 4,
 "nbformat_minor": 2
}
